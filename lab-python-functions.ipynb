{
 "cells": [
  {
   "cell_type": "markdown",
   "id": "25d7736c-ba17-4aff-b6bb-66eba20fbf4e",
   "metadata": {},
   "source": [
    "# Lab | Functions"
   ]
  },
  {
   "cell_type": "markdown",
   "id": "0c581062-8967-4d93-b06e-62833222f930",
   "metadata": {
    "tags": []
   },
   "source": [
    "## Exercise: Managing Customer Orders with Functions\n",
    "\n",
    "In the previous exercise, you improved the code for managing customer orders by using loops and flow control. Now, let's take it a step further and refactor the code by introducing functions.\n",
    "\n",
    "Follow the steps below to complete the exercise:\n",
    "\n",
    "1. Define a function named `initialize_inventory` that takes `products` as a parameter. Inside the function, implement the code for initializing the inventory dictionary using a loop and user input.\n",
    "\n",
    "2. Define a function named `get_customer_orders` that takes no parameters. Inside the function, implement the code for prompting the user to enter the product names using a loop. The function should return the `customer_orders` set.\n",
    "\n",
    "3. Define a function named `update_inventory` that takes `customer_orders` and `inventory` as parameters. Inside the function, implement the code for updating the inventory dictionary based on the customer orders.\n",
    "\n",
    "4. Define a function named `calculate_order_statistics` that takes `customer_orders` and `products` as parameters. Inside the function, implement the code for calculating the order statistics (total products ordered, and percentage of unique products ordered). The function should return these values.\n",
    "\n",
    "5. Define a function named `print_order_statistics` that takes `order_statistics` as a parameter. Inside the function, implement the code for printing the order statistics.\n",
    "\n",
    "6. Define a function named `print_updated_inventory` that takes `inventory` as a parameter. Inside the function, implement the code for printing the updated inventory.\n",
    "\n",
    "7. Call the functions in the appropriate sequence to execute the program and manage customer orders.\n",
    "\n",
    "Hints for functions:\n",
    "\n",
    "- Consider the input parameters required for each function and their return values.\n",
    "- Utilize function parameters and return values to transfer data between functions.\n",
    "- Test your functions individually to ensure they work correctly.\n",
    "\n",
    "\n"
   ]
  },
  {
   "cell_type": "code",
   "execution_count": 18,
   "id": "a39fb7db-d803-461a-9701-1a47be4d39bd",
   "metadata": {},
   "outputs": [
    {
     "name": "stdin",
     "output_type": "stream",
     "text": [
      "Enter a product:  book\n",
      "Enter a number for product stock:  10\n",
      "Enter a product:  mug\n",
      "Enter a number for product stock:  10\n",
      "Enter a product:  hat\n",
      "Enter a number for product stock:  10\n",
      "Enter a product:  keychain\n",
      "Enter a number for product stock:  10\n",
      "Enter a product:  t-shirt\n",
      "Enter a number for product stock:  10\n"
     ]
    },
    {
     "name": "stdout",
     "output_type": "stream",
     "text": [
      "{'book': 10, 'mug': 10, 'hat': 10, 'keychain': 10, 't-shirt': 10}\n"
     ]
    }
   ],
   "source": [
    "inventory = {}\n",
    "\n",
    "def initialize_inventory(products_input, products_inventory):    \n",
    "    inventory[products_input] = products_inventory\n",
    "    return inventory\n",
    "\n",
    "for i in range(5):\n",
    "    product_input = input(\"Enter a product: \")\n",
    "    products_inventory = int(input(\"Enter a number for product stock: \"))\n",
    "    initialize_inventory(product_input, products_inventory)\n",
    "\n",
    "print(inventory)\n",
    "                            "
   ]
  },
  {
   "cell_type": "code",
   "execution_count": 170,
   "id": "783584b4-d627-4a59-97b1-cdfb97ea6483",
   "metadata": {},
   "outputs": [
    {
     "name": "stdin",
     "output_type": "stream",
     "text": [
      "Enter the product you wish to order book\n",
      "Enter the product you wish to order mug\n",
      "Enter the product you wish to order har\n"
     ]
    },
    {
     "name": "stdout",
     "output_type": "stream",
     "text": [
      "set()\n"
     ]
    }
   ],
   "source": [
    "def get_customers_orders():\n",
    "    order = customer_orders.add(product_ordered)\n",
    "    \n",
    "customers_orders = set()\n",
    "\n",
    "for i in range(3):\n",
    "    product_ordered = input(\"Enter the product you wish to order\")\n",
    "    get_customers_orders()\n",
    "        \n",
    "print(customers_orders)"
   ]
  },
  {
   "cell_type": "code",
   "execution_count": 46,
   "id": "150ed87a-3e1c-496a-90c7-570e919234d9",
   "metadata": {},
   "outputs": [],
   "source": [
    "customer_orders = {'book','hat'}"
   ]
  },
  {
   "cell_type": "code",
   "execution_count": 79,
   "id": "8b059c49-dff7-40a9-bfa2-2a7b9d2b88a7",
   "metadata": {},
   "outputs": [],
   "source": [
    "def update_inventory(customer_orders,inventory):\n",
    "    for i in customer_orders:\n",
    "        inventory[i] -= 1"
   ]
  },
  {
   "cell_type": "code",
   "execution_count": 81,
   "id": "027c9d02-5333-4bb0-b656-8bb004927083",
   "metadata": {},
   "outputs": [
    {
     "name": "stdout",
     "output_type": "stream",
     "text": [
      "{'book': 9, 'mug': 10, 'hat': 9, 'keychain': 10, 't-shirt': 10}\n"
     ]
    }
   ],
   "source": [
    "update_inventory(customer_orders,inventory)\n",
    "print(inventory)"
   ]
  },
  {
   "cell_type": "code",
   "execution_count": 127,
   "id": "f34d42d3-6987-4765-8f42-6d97709aa640",
   "metadata": {},
   "outputs": [
    {
     "ename": "SyntaxError",
     "evalue": "invalid syntax (145418965.py, line 4)",
     "output_type": "error",
     "traceback": [
      "\u001b[0;36m  Cell \u001b[0;32mIn[127], line 4\u001b[0;36m\u001b[0m\n\u001b[0;31m    return order_statistics: (total_products_ordered,percentage_products_ordered)\u001b[0m\n\u001b[0m                           ^\u001b[0m\n\u001b[0;31mSyntaxError\u001b[0m\u001b[0;31m:\u001b[0m invalid syntax\n"
     ]
    }
   ],
   "source": [
    "def calculate_orders_statistics(customer_orders, products):\n",
    "    total_products_ordered = sum(inventory.values())\n",
    "    percentage_products_ordered = (len(customers_orders) / len(inventory.keys())) * 100\n",
    "    return (total_products_ordered,percentage_products_ordered)"
   ]
  },
  {
   "cell_type": "code",
   "execution_count": 119,
   "id": "5ddca730-4dfe-4b49-8f3f-503627de2117",
   "metadata": {},
   "outputs": [
    {
     "data": {
      "text/plain": [
       "(48, 0.0)"
      ]
     },
     "execution_count": 119,
     "metadata": {},
     "output_type": "execute_result"
    }
   ],
   "source": [
    "calculate_orders_statistics(customer_orders, products)"
   ]
  },
  {
   "cell_type": "code",
   "execution_count": 149,
   "id": "2c3279af-b302-4081-b46d-1e468dc68cb8",
   "metadata": {},
   "outputs": [],
   "source": [
    "order_statistics = calculate_orders_statistics(customer_orders, products)\n",
    "\n",
    "def print_order_statistics(order_stastistics):\n",
    "    print(order_statistics)\n",
    "    return(order_statistics)\n",
    "    \n"
   ]
  },
  {
   "cell_type": "code",
   "execution_count": 151,
   "id": "02efa125-20f3-4190-94d3-5ced9d9c1215",
   "metadata": {},
   "outputs": [
    {
     "ename": "NameError",
     "evalue": "name 'order_stastistics' is not defined",
     "output_type": "error",
     "traceback": [
      "\u001b[0;31m---------------------------------------------------------------------------\u001b[0m",
      "\u001b[0;31mNameError\u001b[0m                                 Traceback (most recent call last)",
      "Cell \u001b[0;32mIn[151], line 1\u001b[0m\n\u001b[0;32m----> 1\u001b[0m \u001b[38;5;28mprint\u001b[39m(print_order_statistics(order_stastistics))\n",
      "\u001b[0;31mNameError\u001b[0m: name 'order_stastistics' is not defined"
     ]
    }
   ],
   "source": [
    "print(print_order_statistics(order_stastistics))"
   ]
  },
  {
   "cell_type": "code",
   "execution_count": null,
   "id": "ed30671d-57f8-460b-8c4a-b0cf15b8e5f5",
   "metadata": {},
   "outputs": [],
   "source": []
  },
  {
   "cell_type": "code",
   "execution_count": 145,
   "id": "eeb34e05-bab4-43bf-9d22-90685f91b310",
   "metadata": {},
   "outputs": [],
   "source": [
    " def print_updated_inventory(inventory):\n",
    "     result = print(inventory)\n",
    "     return result"
   ]
  },
  {
   "cell_type": "code",
   "execution_count": 147,
   "id": "bac25b22-2b00-4740-9c0d-dd501e49496a",
   "metadata": {},
   "outputs": [
    {
     "name": "stdout",
     "output_type": "stream",
     "text": [
      "{'book': 9, 'mug': 10, 'hat': 9, 'keychain': 10, 't-shirt': 10}\n"
     ]
    }
   ],
   "source": [
    "print_updated_inventory(inventory)"
   ]
  },
  {
   "cell_type": "code",
   "execution_count": 174,
   "id": "bb451715-e15b-41e0-91b2-9ab47dab2247",
   "metadata": {},
   "outputs": [
    {
     "name": "stdin",
     "output_type": "stream",
     "text": [
      "Enter a product:  book\n",
      "Enter a number for product stock:  10\n",
      "Enter a product:  mug\n",
      "Enter a number for product stock:  10\n",
      "Enter a product:  keychain\n",
      "Enter a number for product stock:  10\n",
      "Enter a product:  hat\n",
      "Enter a number for product stock:  10\n",
      "Enter a product:  t-shirt\n",
      "Enter a number for product stock:  10\n"
     ]
    },
    {
     "name": "stdout",
     "output_type": "stream",
     "text": [
      "{'book': 9, 'mug': 10, 'hat': 9, 'keychain': 10, 't-shirt': 10}\n"
     ]
    },
    {
     "ename": "NameError",
     "evalue": "name 'order_stastistics' is not defined",
     "output_type": "error",
     "traceback": [
      "\u001b[0;31m---------------------------------------------------------------------------\u001b[0m",
      "\u001b[0;31mNameError\u001b[0m                                 Traceback (most recent call last)",
      "Cell \u001b[0;32mIn[174], line 12\u001b[0m\n\u001b[1;32m      8\u001b[0m update_inventory(customer_orders,inventory)\n\u001b[1;32m     10\u001b[0m \u001b[38;5;28mprint\u001b[39m(inventory)\n\u001b[0;32m---> 12\u001b[0m \u001b[38;5;28mprint\u001b[39m(print_order_statistics(order_stastistics))\n\u001b[1;32m     14\u001b[0m print_updated_inventory(inventory)\n",
      "\u001b[0;31mNameError\u001b[0m: name 'order_stastistics' is not defined"
     ]
    }
   ],
   "source": [
    "for i in range(5):\n",
    "    product_input = input(\"Enter a product: \")\n",
    "    products_inventory = int(input(\"Enter a number for product stock: \"))\n",
    "    initialize_inventory(product_input, products_inventory)\n",
    "    \n",
    "customer_orders = {'book','hat'}\n",
    "\n",
    "update_inventory(customer_orders,inventory)\n",
    "\n",
    "print(inventory)\n",
    "\n",
    "print(print_order_statistics(order_stastistics))\n",
    "\n",
    "print_updated_inventory(inventory)\n"
   ]
  },
  {
   "cell_type": "code",
   "execution_count": null,
   "id": "fb436d8c-fa5b-47a8-996e-f01b4f7c4bdd",
   "metadata": {},
   "outputs": [],
   "source": []
  }
 ],
 "metadata": {
  "kernelspec": {
   "display_name": "Python 3 (ipykernel)",
   "language": "python",
   "name": "python3"
  },
  "language_info": {
   "codemirror_mode": {
    "name": "ipython",
    "version": 3
   },
   "file_extension": ".py",
   "mimetype": "text/x-python",
   "name": "python",
   "nbconvert_exporter": "python",
   "pygments_lexer": "ipython3",
   "version": "3.12.4"
  }
 },
 "nbformat": 4,
 "nbformat_minor": 5
}
